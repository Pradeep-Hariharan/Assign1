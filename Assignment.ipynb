{
 "cells": [
  {
   "cell_type": "markdown",
   "id": "2d9a5128-fe34-4265-9b2b-0770f8b087ff",
   "metadata": {},
   "source": [
    "#(My Jupyter Notebook on IBM Watson Studio)"
   ]
  },
  {
   "cell_type": "markdown",
   "id": "7faf795b-b25f-4c40-8afe-def720499e68",
   "metadata": {},
   "source": [
    "##(__Pradeep Hariharan__\n",
    "   Student)"
   ]
  },
  {
   "cell_type": "markdown",
   "id": "e9124da0-5782-4c08-9026-d0fcd278bb1a",
   "metadata": {},
   "source": [
    "###(_I'm interested in data science because currently entire world is running through data and data science is the one which allows us to work with the data and by seeing the evolution takes place in this field makes its more interesting_)"
   ]
  },
  {
   "cell_type": "markdown",
   "id": "948f909f-16a2-41cf-bb1a-4b46a037be4f",
   "metadata": {},
   "source": [
    "###(I'm going to say a simple hi)"
   ]
  },
  {
   "cell_type": "code",
   "execution_count": 1,
   "id": "ecbb2282-5b6c-4d8b-a93c-c448767adf56",
   "metadata": {},
   "outputs": [
    {
     "name": "stdout",
     "output_type": "stream",
     "text": [
      "Hi there! How's ur day going?\n"
     ]
    }
   ],
   "source": [
    "print(\"Hi there! How's ur day going?\")"
   ]
  },
  {
   "cell_type": "markdown",
   "id": "f77366b4-10c2-492f-8a28-a5fad96f6ad1",
   "metadata": {},
   "source": [
    "***\n",
    "1.Breakfast\n",
    "   -Bread\n",
    "   -Milk\n",
    ">end   "
   ]
  }
 ],
 "metadata": {
  "kernelspec": {
   "display_name": "Python",
   "language": "python",
   "name": "conda-env-python-py"
  },
  "language_info": {
   "codemirror_mode": {
    "name": "ipython",
    "version": 3
   },
   "file_extension": ".py",
   "mimetype": "text/x-python",
   "name": "python",
   "nbconvert_exporter": "python",
   "pygments_lexer": "ipython3",
   "version": "3.7.12"
  }
 },
 "nbformat": 4,
 "nbformat_minor": 5
}
